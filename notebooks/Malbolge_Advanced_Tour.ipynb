{
  "cells": [
    {
      "cell_type": "markdown",
      "metadata": {},
      "source": [
        "# Malbolge Advanced Tour\n",
        "\n",
        "This notebook demonstrates the modular malbolge package: generating programs, executing them, and inspecting profiler statistics."
      ]
    },
    {
      "cell_type": "code",
      "metadata": {},
      "execution_count": null,
      "outputs": [],
      "source": [
        "import sys\n",
        "from pathlib import Path\n",
        "\n",
        "def find_repo_root(start: Path) -> Path:\n",
        "    for candidate in (start, *start.parents):\n",
        "        if (candidate / \"pyproject.toml\").exists():\n",
        "            return candidate\n",
        "    raise RuntimeError(\"Unable to locate project root\")\n",
        "\n",
        "REPO_ROOT = find_repo_root(Path.cwd())\n",
        "if str(REPO_ROOT) not in sys.path:\n",
        "    sys.path.insert(0, str(REPO_ROOT))\n",
        "from malbolge import GenerationConfig, ProgramGenerator, MalbolgeInterpreter\n",
        "print(\"Repo root:\", REPO_ROOT)"
      ]
    },
    {
      "cell_type": "markdown",
      "metadata": {},
      "source": [
        "## Generate a Program\n",
        "We generate a Malbolge program that prints a target string and capture profiling stats."
      ]
    },
    {
      "cell_type": "code",
      "metadata": {},
      "execution_count": null,
      "outputs": [],
      "source": [
        "generator = ProgramGenerator()\n",
        "config = GenerationConfig(random_seed=42, max_search_depth=5, opcode_choices='op*')\n",
        "target = 'Hello'\n",
        "result = generator.generate_for_string(target, config=config)\n",
        "result.opcodes, result.machine_output, result.stats"
      ]
    },
    {
      "cell_type": "markdown",
      "metadata": {},
      "source": [
        "## Execute and Inspect\n",
        "Run the opcode sequence through the interpreter and inspect the execution result."
      ]
    },
    {
      "cell_type": "code",
      "metadata": {},
      "execution_count": null,
      "outputs": [],
      "source": [
        "interpreter = MalbolgeInterpreter()\n",
        "execution = interpreter.execute(result.opcodes, capture_machine=True)\n",
        "execution.output, execution.halt_reason, execution.steps, len(execution.machine.tape) if execution.machine else None"
      ]
    },
    {
      "cell_type": "markdown",
      "metadata": {},
      "source": [
        "## Profiling Helper\n",
        "A simple helper to profile multiple runs and summarise heuristic stats."
      ]
    },
    {
      "cell_type": "code",
      "metadata": {},
      "execution_count": null,
      "outputs": [],
      "source": [
        "import time\n",
        "def profile_generation(target: str, runs: int = 3):\n",
        "    durations = []\n",
        "    for _ in range(runs):\n",
        "        start = time.perf_counter()\n",
        "        res = generator.generate_for_string(target, config=config)\n",
        "        durations.append(time.perf_counter() - start)\n",
        "    return min(durations), sum(durations)/len(durations)\n",
        "profile_generation('Hi', runs=3)"
      ]
    },
    {
      "cell_type": "markdown",
      "metadata": {},
      "source": [
        "# Heuristic Comparison\n",
        "\n",
        "Compare different generator configurations to see how heuristics affect evaluations and runtime."
      ]
    },
    {
      "cell_type": "code",
      "metadata": {},
      "execution_count": null,
      "outputs": [],
      "source": [
        "def run_generation(config: GenerationConfig, label: str):\n",
        "    res = generator.generate_for_string(target, config=config)\n",
        "    return label, res.machine_output, res.stats\n",
        "configs = [\n",
        "    GenerationConfig(random_seed=42, max_search_depth=5, opcode_choices='op*'),\n",
        "    GenerationConfig(random_seed=42, max_search_depth=7, opcode_choices='op*j'),\n",
        "]\n",
        "[run_generation(cfg, f'config_{idx}') for idx, cfg in enumerate(configs, 1)]"
      ]
    },
    {
      "cell_type": "markdown",
      "metadata": {},
      "source": [
        "# Interpreter Debugging\n",
        "\n",
        "Inspect a snapshot of the machine state to debug complex programs."
      ]
    },
    {
      "cell_type": "code",
      "metadata": {},
      "execution_count": null,
      "outputs": [],
      "source": [
        "machine = execution.machine\n",
        "tape_preview = machine.tape[:10] if machine else []\n",
        "{'a': machine.a if machine else None, 'c': machine.c if machine else None, 'd': machine.d if machine else None, 'tape_preview': tape_preview}"
      ]
    }
  ],
  "metadata": {
    "kernelspec": {
      "display_name": "Python 3",
      "language": "python",
      "name": "python3"
    },
    "language_info": {
      "name": "python",
      "version": "3.11"
    }
  },
  "nbformat": 4,
  "nbformat_minor": 5
}
